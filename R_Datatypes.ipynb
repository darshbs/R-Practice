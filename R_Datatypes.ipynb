{
  "nbformat": 4,
  "nbformat_minor": 0,
  "metadata": {
    "kernelspec": {
      "display_name": "R",
      "language": "R",
      "name": "ir"
    },
    "language_info": {
      "codemirror_mode": "r",
      "file_extension": ".r",
      "mimetype": "text/x-r-source",
      "name": "R",
      "pygments_lexer": "r",
      "version": "3.3.1"
    },
    "colab": {
      "provenance": [],
      "collapsed_sections": [
        "TCA3vxnEvM3N",
        "VyfZ4WAjhZMu",
        "shCEFswHk2bF",
        "-u9QYOq9qAMs",
        "JYzyxLtXxjNM",
        "H3iYLC6Ux0K0"
      ],
      "include_colab_link": true
    }
  },
  "cells": [
    {
      "cell_type": "markdown",
      "metadata": {
        "id": "view-in-github",
        "colab_type": "text"
      },
      "source": [
        "<a href=\"https://colab.research.google.com/github/darshbs/R-onColab/blob/main/R_Datatypes.ipynb\" target=\"_parent\"><img src=\"https://colab.research.google.com/assets/colab-badge.svg\" alt=\"Open In Colab\"/></a>"
      ]
    },
    {
      "cell_type": "markdown",
      "source": [
        "# **Data Types & Data Structures in 'R'**"
      ],
      "metadata": {
        "id": "TCA3vxnEvM3N"
      }
    },
    {
      "cell_type": "markdown",
      "source": [
        "## **Everything in R is an object**"
      ],
      "metadata": {
        "id": "BkiCCfO6gbsO"
      }
    },
    {
      "cell_type": "code",
      "metadata": {
        "id": "AvdoG0fvbhhx"
      },
      "source": [
        "# Create an R object\n",
        "obj = 69"
      ],
      "execution_count": null,
      "outputs": []
    },
    {
      "cell_type": "markdown",
      "source": [
        "# **Basic data types in R:**\n",
        "1.   Character\n",
        "2.   Numeric (real or decimal)\n",
        "3. Integer\n",
        "4. Logical\n",
        "5. Complex\n",
        "\n"
      ],
      "metadata": {
        "id": "VyfZ4WAjhZMu"
      }
    },
    {
      "cell_type": "code",
      "source": [
        "# Create objects of simple data types\n",
        "my_char = 'a'\n",
        "print(my_char)\n",
        "\n",
        "num = 10L\n",
        "print(num)\n",
        "\n",
        "my_numeric = 25\n",
        "print(my_numeric)\n",
        "\n",
        "my_logic = TRUE\n",
        "print(my_logic)"
      ],
      "metadata": {
        "colab": {
          "base_uri": "https://localhost:8080/"
        },
        "id": "rtNs7eMDiHrl",
        "outputId": "8a63747b-8a4c-4516-bb3c-f94fe4808590"
      },
      "execution_count": null,
      "outputs": [
        {
          "output_type": "stream",
          "name": "stdout",
          "text": [
            "[1] \"a\"\n",
            "[1] 10\n",
            "[1] 25\n",
            "[1] TRUE\n"
          ]
        }
      ]
    },
    {
      "cell_type": "code",
      "source": [
        "if (1 == 1) {\n",
        "  print(my_logic)\n",
        "}"
      ],
      "metadata": {
        "colab": {
          "base_uri": "https://localhost:8080/"
        },
        "id": "KUnD-zaGj68O",
        "outputId": "01b363dc-0b70-41c4-ca8a-9dae0da7e5d1"
      },
      "execution_count": null,
      "outputs": [
        {
          "output_type": "stream",
          "name": "stdout",
          "text": [
            "[1] TRUE\n"
          ]
        }
      ]
    },
    {
      "cell_type": "markdown",
      "source": [
        "# **Data Structures in R**\n",
        "1. Atomic Vectors\n",
        "2. List\n",
        "3. Matrix\n",
        "4. Data frame\n",
        "5. Factor"
      ],
      "metadata": {
        "id": "shCEFswHk2bF"
      }
    },
    {
      "cell_type": "markdown",
      "source": [
        "The `c()` function plays a crucial role in creating vectors, it's called Character Array. It stands for \"combine\" or \"concatenate.\""
      ],
      "metadata": {
        "id": "ZuYBmL-KwR_c"
      }
    },
    {
      "cell_type": "markdown",
      "source": [
        "## Vector\n",
        "A vector is a collection of objects of the same data type."
      ],
      "metadata": {
        "id": "-u9QYOq9qAMs"
      }
    },
    {
      "cell_type": "code",
      "source": [
        "# Create a Vector\n",
        "my_vec1 = c(1L, 2L, 3L)\n",
        "my_vec2 = 1:4\n",
        "print(my_vec1)\n",
        "print(my_vec2)"
      ],
      "metadata": {
        "colab": {
          "base_uri": "https://localhost:8080/"
        },
        "id": "00IodObMlBnm",
        "outputId": "4b172c38-8d32-432b-a0fa-e0f9e88faf46"
      },
      "execution_count": 2,
      "outputs": [
        {
          "output_type": "stream",
          "name": "stdout",
          "text": [
            "[1] 1 2 3\n",
            "[1] 1 2 3 4\n"
          ]
        }
      ]
    },
    {
      "cell_type": "markdown",
      "source": [
        "Sequence Function\n",
        "seq(from = 1, to = 5, by = 1)"
      ],
      "metadata": {
        "id": "bMG210gBqgN9"
      }
    },
    {
      "cell_type": "code",
      "source": [
        "my_vec_seq = seq(from = 1, to = 10, by = 2)\n",
        "print(my_vec_seq)"
      ],
      "metadata": {
        "colab": {
          "base_uri": "https://localhost:8080/"
        },
        "id": "WaQ5-2nZqhr8",
        "outputId": "b78834c1-6231-4f46-c25e-f7fce55fc3a5"
      },
      "execution_count": 4,
      "outputs": [
        {
          "output_type": "stream",
          "name": "stdout",
          "text": [
            "[1] 1 3 5 7 9\n"
          ]
        }
      ]
    },
    {
      "cell_type": "markdown",
      "source": [
        "### Functions on Vector Objects"
      ],
      "metadata": {
        "id": "WoerJmFlriFc"
      }
    },
    {
      "cell_type": "code",
      "source": [
        "# length\n",
        "length(my_vec_seq)"
      ],
      "metadata": {
        "colab": {
          "base_uri": "https://localhost:8080/",
          "height": 34
        },
        "id": "DmL_HMvYrkJF",
        "outputId": "041bfaf7-589e-4a03-a7b6-909ffdc7dee6"
      },
      "execution_count": null,
      "outputs": [
        {
          "output_type": "display_data",
          "data": {
            "text/html": [
              "5"
            ],
            "text/markdown": "5",
            "text/latex": "5",
            "text/plain": [
              "[1] 5"
            ]
          },
          "metadata": {}
        }
      ]
    },
    {
      "cell_type": "code",
      "source": [
        "# Class\n",
        "class(my_vec1)\n",
        "class(my_vec2)\n",
        "class(my_vec_seq)\n",
        "typeof(my_vec_seq)\n",
        "str(my_vec_seq)"
      ],
      "metadata": {
        "colab": {
          "base_uri": "https://localhost:8080/",
          "height": 0
        },
        "id": "6W8a7QCrrzoN",
        "outputId": "b497b5a0-805e-47ba-8366-bc0a04fab255"
      },
      "execution_count": 7,
      "outputs": [
        {
          "output_type": "display_data",
          "data": {
            "text/html": [
              "'integer'"
            ],
            "text/markdown": "'integer'",
            "text/latex": "'integer'",
            "text/plain": [
              "[1] \"integer\""
            ]
          },
          "metadata": {}
        },
        {
          "output_type": "display_data",
          "data": {
            "text/html": [
              "'integer'"
            ],
            "text/markdown": "'integer'",
            "text/latex": "'integer'",
            "text/plain": [
              "[1] \"integer\""
            ]
          },
          "metadata": {}
        },
        {
          "output_type": "display_data",
          "data": {
            "text/html": [
              "'numeric'"
            ],
            "text/markdown": "'numeric'",
            "text/latex": "'numeric'",
            "text/plain": [
              "[1] \"numeric\""
            ]
          },
          "metadata": {}
        },
        {
          "output_type": "display_data",
          "data": {
            "text/html": [
              "'double'"
            ],
            "text/markdown": "'double'",
            "text/latex": "'double'",
            "text/plain": [
              "[1] \"double\""
            ]
          },
          "metadata": {}
        },
        {
          "output_type": "stream",
          "name": "stdout",
          "text": [
            " num [1:5] 1 3 5 7 9\n"
          ]
        }
      ]
    },
    {
      "cell_type": "markdown",
      "source": [
        "###**Access and Modify Elements of a Vector**\n",
        " In R, the indexing starts from one.\n",
        " This is slightly different from a programming language like Python, in which the indexing\n",
        "starts from zero.\n",
        "\n",
        "For example, the first element is in position one, the second element is in position two, and so on."
      ],
      "metadata": {
        "id": "mIvMElMrr_sN"
      }
    },
    {
      "cell_type": "code",
      "source": [
        "vec_index = seq(from = 2, to = 12, by = 2)\n",
        "vec_index[1] = 200\n",
        "print(vec_index)\n",
        "\n",
        "\n",
        "print(vec_index[1])"
      ],
      "metadata": {
        "colab": {
          "base_uri": "https://localhost:8080/"
        },
        "id": "uTFrI4ncrNz9",
        "outputId": "83d2603c-7a31-422f-85df-2256fa89a23a"
      },
      "execution_count": 12,
      "outputs": [
        {
          "output_type": "stream",
          "name": "stdout",
          "text": [
            "[1] 200   4   6   8  10  12\n",
            "[1] 200\n"
          ]
        }
      ]
    },
    {
      "cell_type": "code",
      "source": [
        "start = 2\n",
        "end = 20\n",
        "skip = 2\n",
        "\n",
        "vec_index = seq(from = start, to = end, by = skip)\n",
        "vec_index[1] = 200\n",
        "print(vec_index)\n",
        "\n",
        "\n",
        "print(vec_index[1])"
      ],
      "metadata": {
        "colab": {
          "base_uri": "https://localhost:8080/"
        },
        "id": "9cYPe553t3x9",
        "outputId": "70606e13-1939-4bf2-deb6-255e2c11500c"
      },
      "execution_count": 14,
      "outputs": [
        {
          "output_type": "stream",
          "name": "stdout",
          "text": [
            " [1] 200   4   6   8  10  12  14  16  18  20\n",
            "[1] 200\n"
          ]
        }
      ]
    },
    {
      "cell_type": "markdown",
      "source": [
        "### Identifying and Handling Missing Data"
      ],
      "metadata": {
        "id": "H7MB0sSZv0Qc"
      }
    },
    {
      "cell_type": "markdown",
      "source": [
        "One of the unique features of ‘R’ is that it lets the user identify and handle missing values in data. ‘NA’ is a special symbol that represents a missing value. Typically, when data is read from an external source, the missing values are replaced by NA. We can also initialise a vector using the symbol ‘NA’. Missing values are handled using the functions ‘is.na()’ and ‘anyNA().’ The details are explained using the code snippet below."
      ],
      "metadata": {
        "id": "RGuH6ZMkv76c"
      }
    },
    {
      "cell_type": "code",
      "source": [
        "# Initialize a vector with missing values.\n",
        "# special symbol NA is used to represent missing values.\n",
        "missing = c(1, 2, NA, 4)\n",
        "print(missing)\n",
        "# is.na() is an in-built function. It takes the name of the object as argument\n",
        "# This function checks if there are any missing values in the object\n",
        "is.na(missing)\n",
        "# anyNA will be TRUE if there is at least one missing value in the object,\n",
        "anyNA(missing)"
      ],
      "metadata": {
        "colab": {
          "base_uri": "https://localhost:8080/",
          "height": 0
        },
        "id": "F7cgi43pv4Vs",
        "outputId": "d9b1a2f8-6e93-4008-9cfc-fe4e8fa39215"
      },
      "execution_count": 15,
      "outputs": [
        {
          "output_type": "stream",
          "name": "stdout",
          "text": [
            "[1]  1  2 NA  4\n"
          ]
        },
        {
          "output_type": "display_data",
          "data": {
            "text/html": [
              "<style>\n",
              ".list-inline {list-style: none; margin:0; padding: 0}\n",
              ".list-inline>li {display: inline-block}\n",
              ".list-inline>li:not(:last-child)::after {content: \"\\00b7\"; padding: 0 .5ex}\n",
              "</style>\n",
              "<ol class=list-inline><li>FALSE</li><li>FALSE</li><li>TRUE</li><li>FALSE</li></ol>\n"
            ],
            "text/markdown": "1. FALSE\n2. FALSE\n3. TRUE\n4. FALSE\n\n\n",
            "text/latex": "\\begin{enumerate*}\n\\item FALSE\n\\item FALSE\n\\item TRUE\n\\item FALSE\n\\end{enumerate*}\n",
            "text/plain": [
              "[1] FALSE FALSE  TRUE FALSE"
            ]
          },
          "metadata": {}
        },
        {
          "output_type": "display_data",
          "data": {
            "text/html": [
              "TRUE"
            ],
            "text/markdown": "TRUE",
            "text/latex": "TRUE",
            "text/plain": [
              "[1] TRUE"
            ]
          },
          "metadata": {}
        }
      ]
    },
    {
      "cell_type": "markdown",
      "source": [
        "### Special Symbols"
      ],
      "metadata": {
        "id": "h0umBy7Nw-M2"
      }
    },
    {
      "cell_type": "markdown",
      "source": [
        "‘Inf’ and ‘NaN’ are special symbols used to represent infinity and ‘not a number’ or unknown\n",
        "in R, respectively. These symbols are of special importance in computations; such values\n",
        "will have to be handled in a systematic manner.\n",
        "\n",
        "In the above example, the code 1/0 displays the output ‘Inf’ and 0/0 displays the output\n",
        "‘NaN’."
      ],
      "metadata": {
        "id": "oSrvsdXCxWr8"
      }
    },
    {
      "cell_type": "code",
      "source": [
        "# Display the result of 1 divided by 0\n",
        "1/0\n",
        "# Display the result of 0 divided by 0\n",
        "0/0"
      ],
      "metadata": {
        "colab": {
          "base_uri": "https://localhost:8080/",
          "height": 0
        },
        "id": "F7Q2cy6gxYQs",
        "outputId": "8b800a7d-ab4d-41a4-eca2-b15f9ef46769"
      },
      "execution_count": 16,
      "outputs": [
        {
          "output_type": "display_data",
          "data": {
            "text/html": [
              "Inf"
            ],
            "text/markdown": "Inf",
            "text/latex": "Inf",
            "text/plain": [
              "[1] Inf"
            ]
          },
          "metadata": {}
        },
        {
          "output_type": "display_data",
          "data": {
            "text/html": [
              "NaN"
            ],
            "text/markdown": "NaN",
            "text/latex": "NaN",
            "text/plain": [
              "[1] NaN"
            ]
          },
          "metadata": {}
        }
      ]
    },
    {
      "cell_type": "markdown",
      "source": [
        "## List\n",
        "List is a collection of simple objects. However, unlike vectors, the elements in a list can be of different data types.\n"
      ],
      "metadata": {
        "id": "JYzyxLtXxjNM"
      }
    },
    {
      "cell_type": "markdown",
      "source": [
        "### Creation of List"
      ],
      "metadata": {
        "id": "H3iYLC6Ux0K0"
      }
    },
    {
      "cell_type": "code",
      "source": [
        "# Create list\n",
        "firstList = list(2)\n",
        "print(firstList)\n",
        "\n",
        "# Create a list with values\n",
        "valuesList = list(2, 'string', c('a', 5, 'c'), NA)\n",
        "print(valuesList)\n",
        "anyNA(valuesList)"
      ],
      "metadata": {
        "colab": {
          "base_uri": "https://localhost:8080/",
          "height": 295
        },
        "id": "DfhjTWUNx4c8",
        "outputId": "d0ef00f5-7ae5-48c2-c384-97108c456ac4"
      },
      "execution_count": 35,
      "outputs": [
        {
          "output_type": "stream",
          "name": "stdout",
          "text": [
            "[[1]]\n",
            "[1] 2\n",
            "\n",
            "[[1]]\n",
            "[1] 2\n",
            "\n",
            "[[2]]\n",
            "[1] \"string\"\n",
            "\n",
            "[[3]]\n",
            "[1] \"a\" \"5\" \"c\"\n",
            "\n",
            "[[4]]\n",
            "[1] NA\n",
            "\n"
          ]
        },
        {
          "output_type": "display_data",
          "data": {
            "text/html": [
              "TRUE"
            ],
            "text/markdown": "TRUE",
            "text/latex": "TRUE",
            "text/plain": [
              "[1] TRUE"
            ]
          },
          "metadata": {}
        }
      ]
    },
    {
      "cell_type": "code",
      "source": [
        "# Assign names to slots of list\n",
        "names(valuesList) = c('first', 'second', 'third', 'fourth')\n",
        "str(valuesList)"
      ],
      "metadata": {
        "colab": {
          "base_uri": "https://localhost:8080/"
        },
        "id": "nf7woJnmy4S0",
        "outputId": "1220bae0-e103-4683-aaa2-90b3c51d7ca4"
      },
      "execution_count": 36,
      "outputs": [
        {
          "output_type": "stream",
          "name": "stdout",
          "text": [
            "List of 4\n",
            " $ first : num 2\n",
            " $ second: chr \"string\"\n",
            " $ third : chr [1:3] \"a\" \"5\" \"c\"\n",
            " $ fourth: logi NA\n"
          ]
        }
      ]
    },
    {
      "cell_type": "code",
      "source": [
        "# Access elements of a list\n",
        "valuesList[3]\n",
        "valuesList$fourth\n"
      ],
      "metadata": {
        "colab": {
          "base_uri": "https://localhost:8080/",
          "height": 69
        },
        "id": "nYNp3MBKzvCc",
        "outputId": "0ad8d05d-6b5b-42fb-9d59-826c6fb6b5c0"
      },
      "execution_count": 37,
      "outputs": [
        {
          "output_type": "display_data",
          "data": {
            "text/html": [
              "<strong>$third</strong> = <style>\n",
              ".list-inline {list-style: none; margin:0; padding: 0}\n",
              ".list-inline>li {display: inline-block}\n",
              ".list-inline>li:not(:last-child)::after {content: \"\\00b7\"; padding: 0 .5ex}\n",
              "</style>\n",
              "<ol class=list-inline><li>'a'</li><li>'5'</li><li>'c'</li></ol>\n"
            ],
            "text/markdown": "**$third** = 1. 'a'\n2. '5'\n3. 'c'\n\n\n",
            "text/latex": "\\textbf{\\$third} = \\begin{enumerate*}\n\\item 'a'\n\\item '5'\n\\item 'c'\n\\end{enumerate*}\n",
            "text/plain": [
              "$third\n",
              "[1] \"a\" \"5\" \"c\"\n"
            ]
          },
          "metadata": {}
        },
        {
          "output_type": "display_data",
          "data": {
            "text/html": [
              "&lt;NA&gt;"
            ],
            "text/markdown": "&lt;NA&gt;",
            "text/latex": "<NA>",
            "text/plain": [
              "[1] NA"
            ]
          },
          "metadata": {}
        }
      ]
    },
    {
      "cell_type": "code",
      "source": [
        "#Modify elements of a list\n",
        "valuesList[6] = 10\n",
        "print(valuesList)\n",
        "print(valuesList[5])"
      ],
      "metadata": {
        "colab": {
          "base_uri": "https://localhost:8080/"
        },
        "id": "9g0h9uhG0Ygk",
        "outputId": "7245635f-8880-4060-86f0-c2513531a061"
      },
      "execution_count": 42,
      "outputs": [
        {
          "output_type": "stream",
          "name": "stdout",
          "text": [
            "$first\n",
            "[1] 2\n",
            "\n",
            "$second\n",
            "[1] \"string\"\n",
            "\n",
            "$third\n",
            "[1] \"a\" \"5\" \"c\"\n",
            "\n",
            "$fourth\n",
            "[1] NA\n",
            "\n",
            "[[5]]\n",
            "NULL\n",
            "\n",
            "[[6]]\n",
            "[1] 10\n",
            "\n",
            "[[1]]\n",
            "NULL\n",
            "\n"
          ]
        }
      ]
    },
    {
      "cell_type": "markdown",
      "source": [
        "## Matrix\n",
        "A matrix is an atomic vector with one or two dimensions.\n",
        "This data structure is a tabular arrangement of objects of the same data type"
      ],
      "metadata": {
        "id": "FmfGTTgI0-aL"
      }
    },
    {
      "cell_type": "markdown",
      "source": [
        "### Creation of Matrix"
      ],
      "metadata": {
        "id": "efDdd7cf1U07"
      }
    },
    {
      "cell_type": "code",
      "source": [
        "# Create a matrix\n",
        "# Arranged in Column wise\n",
        "myMatrixCol = matrix(c(1, 2, 3, 4, 5, 6), nrow = 3, ncol = 2)\n",
        "print(myMatrixCol)\n",
        "print('-----------------------------------')\n",
        "# Arranged in Row Wise\n",
        "myMatrixRow = matrix(c(1, 2, 3, 4, 5, 6), nrow = 2, ncol = 3, byrow = TRUE)\n",
        "print(myMatrixRow)\n",
        "print('-----------------------------------')\n",
        "# Assign Row & Column names\n",
        "rownames(myMatrixRow) = c('row-1', 'row-2')\n",
        "colnames(myMatrixRow) = c('col-1', 'col-2', 'col-3')\n",
        "str(myMatrixRow)\n",
        "print('-----------------------------------')\n",
        "print(myMatrixRow)"
      ],
      "metadata": {
        "colab": {
          "base_uri": "https://localhost:8080/"
        },
        "id": "eeaf-f2R1S-M",
        "outputId": "4f0686a0-cc7c-454d-c276-8a87fde45149"
      },
      "execution_count": 56,
      "outputs": [
        {
          "output_type": "stream",
          "name": "stdout",
          "text": [
            "     [,1] [,2]\n",
            "[1,]    1    4\n",
            "[2,]    2    5\n",
            "[3,]    3    6\n",
            "[1] \"-----------------------------------\"\n",
            "     [,1] [,2] [,3]\n",
            "[1,]    1    2    3\n",
            "[2,]    4    5    6\n",
            "[1] \"-----------------------------------\"\n",
            " num [1:2, 1:3] 1 4 2 5 3 6\n",
            " - attr(*, \"dimnames\")=List of 2\n",
            "  ..$ : chr [1:2] \"row-1\" \"row-2\"\n",
            "  ..$ : chr [1:3] \"col-1\" \"col-2\" \"col-3\"\n",
            "[1] \"-----------------------------------\"\n",
            "      col-1 col-2 col-3\n",
            "row-1     1     2     3\n",
            "row-2     4     5     6\n"
          ]
        }
      ]
    },
    {
      "cell_type": "code",
      "source": [
        "# Access elements of a matrix\n",
        "myMatrixRow[1,2]"
      ],
      "metadata": {
        "colab": {
          "base_uri": "https://localhost:8080/",
          "height": 34
        },
        "id": "7M3c_s2R4ITL",
        "outputId": "dfcccbc0-cbef-4ae8-b639-54db5f09121f"
      },
      "execution_count": 57,
      "outputs": [
        {
          "output_type": "display_data",
          "data": {
            "text/html": [
              "2"
            ],
            "text/markdown": "2",
            "text/latex": "2",
            "text/plain": [
              "[1] 2"
            ]
          },
          "metadata": {}
        }
      ]
    },
    {
      "cell_type": "markdown",
      "source": [
        "## Data Frame"
      ],
      "metadata": {
        "id": "6uzBXxu-4WOj"
      }
    },
    {
      "cell_type": "markdown",
      "source": [
        "A data frame is a list of lists with each sublist of the same length. It is equivalent to a rectangular list. A data frame is typically used to store data that are read from text/CSV files by retaining the underlying structure such as row names, column names, etc. A data frame can also be created manually.\n"
      ],
      "metadata": {
        "id": "oWfeWQaz4YWD"
      }
    },
    {
      "cell_type": "markdown",
      "source": [
        "### Creating Data Frame"
      ],
      "metadata": {
        "id": "B75vd27R48wL"
      }
    },
    {
      "cell_type": "code",
      "source": [
        "# Create a dataframe manually\n",
        "ID = c('A', 'B', 'C')\n",
        "Age = c(18, 19, 20)\n",
        "Height = c(150, 170, 160)\n",
        "sData = data.frame(ID, Age, Height)\n",
        "\n",
        "#Assign namse to the rows and columns of the data fram\n",
        "rownames(sData) = c('Zetsu', 'Deva', 'Animal')\n",
        "colnames(sData) = c('ID', 'Age', 'Height')\n"
      ],
      "metadata": {
        "id": "KPpmwtn_4uQX"
      },
      "execution_count": 66,
      "outputs": []
    },
    {
      "cell_type": "markdown",
      "source": [
        "### In-built functions on Data Frame"
      ],
      "metadata": {
        "id": "YCyeWJiq6yGc"
      }
    },
    {
      "cell_type": "code",
      "source": [
        "# Structure of the data frame\n",
        "str(sData)"
      ],
      "metadata": {
        "colab": {
          "base_uri": "https://localhost:8080/"
        },
        "id": "i04yFG9S62Dj",
        "outputId": "ffc2f28a-f591-4633-8a9b-9e1318e8e9c9"
      },
      "execution_count": 67,
      "outputs": [
        {
          "output_type": "stream",
          "name": "stdout",
          "text": [
            "'data.frame':\t3 obs. of  3 variables:\n",
            " $ ID    : chr  \"A\" \"B\" \"C\"\n",
            " $ Age   : num  18 19 20\n",
            " $ Height: num  150 170 160\n"
          ]
        }
      ]
    },
    {
      "cell_type": "code",
      "source": [
        "# Print first Five Rows\n",
        "head(sData, 2)"
      ],
      "metadata": {
        "colab": {
          "base_uri": "https://localhost:8080/",
          "height": 161
        },
        "id": "vUPvD3SK67Nz",
        "outputId": "33ed28a8-1eea-41f6-9d06-b937b1680e66"
      },
      "execution_count": 68,
      "outputs": [
        {
          "output_type": "display_data",
          "data": {
            "text/html": [
              "<table class=\"dataframe\">\n",
              "<caption>A data.frame: 2 × 3</caption>\n",
              "<thead>\n",
              "\t<tr><th></th><th scope=col>ID</th><th scope=col>Age</th><th scope=col>Height</th></tr>\n",
              "\t<tr><th></th><th scope=col>&lt;chr&gt;</th><th scope=col>&lt;dbl&gt;</th><th scope=col>&lt;dbl&gt;</th></tr>\n",
              "</thead>\n",
              "<tbody>\n",
              "\t<tr><th scope=row>Zetsu</th><td>A</td><td>18</td><td>150</td></tr>\n",
              "\t<tr><th scope=row>Deva</th><td>B</td><td>19</td><td>170</td></tr>\n",
              "</tbody>\n",
              "</table>\n"
            ],
            "text/markdown": "\nA data.frame: 2 × 3\n\n| <!--/--> | ID &lt;chr&gt; | Age &lt;dbl&gt; | Height &lt;dbl&gt; |\n|---|---|---|---|\n| Zetsu | A | 18 | 150 |\n| Deva | B | 19 | 170 |\n\n",
            "text/latex": "A data.frame: 2 × 3\n\\begin{tabular}{r|lll}\n  & ID & Age & Height\\\\\n  & <chr> & <dbl> & <dbl>\\\\\n\\hline\n\tZetsu & A & 18 & 150\\\\\n\tDeva & B & 19 & 170\\\\\n\\end{tabular}\n",
            "text/plain": [
              "      ID Age Height\n",
              "Zetsu A  18  150   \n",
              "Deva  B  19  170   "
            ]
          },
          "metadata": {}
        }
      ]
    },
    {
      "cell_type": "code",
      "source": [
        "# Print last Five Rows\n",
        "tail(sData, 2)"
      ],
      "metadata": {
        "colab": {
          "base_uri": "https://localhost:8080/",
          "height": 161
        },
        "collapsed": true,
        "id": "FufwbCY26_5D",
        "outputId": "e6395ecb-fada-4fba-ff3f-bc6b29941b21"
      },
      "execution_count": 69,
      "outputs": [
        {
          "output_type": "display_data",
          "data": {
            "text/html": [
              "<table class=\"dataframe\">\n",
              "<caption>A data.frame: 2 × 3</caption>\n",
              "<thead>\n",
              "\t<tr><th></th><th scope=col>ID</th><th scope=col>Age</th><th scope=col>Height</th></tr>\n",
              "\t<tr><th></th><th scope=col>&lt;chr&gt;</th><th scope=col>&lt;dbl&gt;</th><th scope=col>&lt;dbl&gt;</th></tr>\n",
              "</thead>\n",
              "<tbody>\n",
              "\t<tr><th scope=row>Deva</th><td>B</td><td>19</td><td>170</td></tr>\n",
              "\t<tr><th scope=row>Animal</th><td>C</td><td>20</td><td>160</td></tr>\n",
              "</tbody>\n",
              "</table>\n"
            ],
            "text/markdown": "\nA data.frame: 2 × 3\n\n| <!--/--> | ID &lt;chr&gt; | Age &lt;dbl&gt; | Height &lt;dbl&gt; |\n|---|---|---|---|\n| Deva | B | 19 | 170 |\n| Animal | C | 20 | 160 |\n\n",
            "text/latex": "A data.frame: 2 × 3\n\\begin{tabular}{r|lll}\n  & ID & Age & Height\\\\\n  & <chr> & <dbl> & <dbl>\\\\\n\\hline\n\tDeva & B & 19 & 170\\\\\n\tAnimal & C & 20 & 160\\\\\n\\end{tabular}\n",
            "text/plain": [
              "       ID Age Height\n",
              "Deva   B  19  170   \n",
              "Animal C  20  160   "
            ]
          },
          "metadata": {}
        }
      ]
    },
    {
      "cell_type": "code",
      "source": [
        "# Get the dimension of the data frame\n",
        "dim(sData)"
      ],
      "metadata": {
        "colab": {
          "base_uri": "https://localhost:8080/",
          "height": 34
        },
        "id": "6JBTY2IX7J27",
        "outputId": "2b632281-82cb-4888-9b6e-a13d91d3f628"
      },
      "execution_count": 70,
      "outputs": [
        {
          "output_type": "display_data",
          "data": {
            "text/html": [
              "<style>\n",
              ".list-inline {list-style: none; margin:0; padding: 0}\n",
              ".list-inline>li {display: inline-block}\n",
              ".list-inline>li:not(:last-child)::after {content: \"\\00b7\"; padding: 0 .5ex}\n",
              "</style>\n",
              "<ol class=list-inline><li>3</li><li>3</li></ol>\n"
            ],
            "text/markdown": "1. 3\n2. 3\n\n\n",
            "text/latex": "\\begin{enumerate*}\n\\item 3\n\\item 3\n\\end{enumerate*}\n",
            "text/plain": [
              "[1] 3 3"
            ]
          },
          "metadata": {}
        }
      ]
    },
    {
      "cell_type": "code",
      "source": [
        "# Number of Rows in Data Frame\n",
        "nrow(sData)\n",
        "# Number of Columns in Data Frame\n",
        "ncol(sData)"
      ],
      "metadata": {
        "colab": {
          "base_uri": "https://localhost:8080/",
          "height": 52
        },
        "id": "UGCIMGyT7OrL",
        "outputId": "5b44f3c3-cf44-458d-b5b2-e1a625841b0b"
      },
      "execution_count": 71,
      "outputs": [
        {
          "output_type": "display_data",
          "data": {
            "text/html": [
              "3"
            ],
            "text/markdown": "3",
            "text/latex": "3",
            "text/plain": [
              "[1] 3"
            ]
          },
          "metadata": {}
        },
        {
          "output_type": "display_data",
          "data": {
            "text/html": [
              "3"
            ],
            "text/markdown": "3",
            "text/latex": "3",
            "text/plain": [
              "[1] 3"
            ]
          },
          "metadata": {}
        }
      ]
    },
    {
      "cell_type": "markdown",
      "source": [
        "### Accessing Elements of a Data Frame\n",
        "Accessing the elements of a slot or column of a dataframe can be done by using the ‘$’ operator or by using double square brackets with column-name provided within quotes. We can also use a single square bracket. However, in this case, the result would be a data frame."
      ],
      "metadata": {
        "id": "HAtvpZnG7bZL"
      }
    },
    {
      "cell_type": "code",
      "source": [
        "# Access a Particular column\n",
        "sData$Age\n",
        "sData[['Age']]\n",
        "sData['Age']"
      ],
      "metadata": {
        "colab": {
          "base_uri": "https://localhost:8080/",
          "height": 244
        },
        "id": "buAhjbYW71g7",
        "outputId": "bdbd6a1e-96d2-4c29-83bb-463664fd4f6d"
      },
      "execution_count": 74,
      "outputs": [
        {
          "output_type": "display_data",
          "data": {
            "text/html": [
              "<style>\n",
              ".list-inline {list-style: none; margin:0; padding: 0}\n",
              ".list-inline>li {display: inline-block}\n",
              ".list-inline>li:not(:last-child)::after {content: \"\\00b7\"; padding: 0 .5ex}\n",
              "</style>\n",
              "<ol class=list-inline><li>18</li><li>19</li><li>20</li></ol>\n"
            ],
            "text/markdown": "1. 18\n2. 19\n3. 20\n\n\n",
            "text/latex": "\\begin{enumerate*}\n\\item 18\n\\item 19\n\\item 20\n\\end{enumerate*}\n",
            "text/plain": [
              "[1] 18 19 20"
            ]
          },
          "metadata": {}
        },
        {
          "output_type": "display_data",
          "data": {
            "text/html": [
              "<style>\n",
              ".list-inline {list-style: none; margin:0; padding: 0}\n",
              ".list-inline>li {display: inline-block}\n",
              ".list-inline>li:not(:last-child)::after {content: \"\\00b7\"; padding: 0 .5ex}\n",
              "</style>\n",
              "<ol class=list-inline><li>18</li><li>19</li><li>20</li></ol>\n"
            ],
            "text/markdown": "1. 18\n2. 19\n3. 20\n\n\n",
            "text/latex": "\\begin{enumerate*}\n\\item 18\n\\item 19\n\\item 20\n\\end{enumerate*}\n",
            "text/plain": [
              "[1] 18 19 20"
            ]
          },
          "metadata": {}
        },
        {
          "output_type": "display_data",
          "data": {
            "text/html": [
              "<table class=\"dataframe\">\n",
              "<caption>A data.frame: 3 × 1</caption>\n",
              "<thead>\n",
              "\t<tr><th></th><th scope=col>Age</th></tr>\n",
              "\t<tr><th></th><th scope=col>&lt;dbl&gt;</th></tr>\n",
              "</thead>\n",
              "<tbody>\n",
              "\t<tr><th scope=row>Zetsu</th><td>18</td></tr>\n",
              "\t<tr><th scope=row>Deva</th><td>19</td></tr>\n",
              "\t<tr><th scope=row>Animal</th><td>20</td></tr>\n",
              "</tbody>\n",
              "</table>\n"
            ],
            "text/markdown": "\nA data.frame: 3 × 1\n\n| <!--/--> | Age &lt;dbl&gt; |\n|---|---|\n| Zetsu | 18 |\n| Deva | 19 |\n| Animal | 20 |\n\n",
            "text/latex": "A data.frame: 3 × 1\n\\begin{tabular}{r|l}\n  & Age\\\\\n  & <dbl>\\\\\n\\hline\n\tZetsu & 18\\\\\n\tDeva & 19\\\\\n\tAnimal & 20\\\\\n\\end{tabular}\n",
            "text/plain": [
              "       Age\n",
              "Zetsu  18 \n",
              "Deva   19 \n",
              "Animal 20 "
            ]
          },
          "metadata": {}
        }
      ]
    },
    {
      "cell_type": "code",
      "source": [
        "# Access a particular Row\n",
        "sData['Deva', ]\n",
        "\n",
        "# Accessing multiple elements\n",
        "sData[c('ID', 'Age')]\n",
        "\n",
        "# Access multiple elements for a specific row\n",
        "sData['Animal', c('ID', 'Age')]"
      ],
      "metadata": {
        "colab": {
          "base_uri": "https://localhost:8080/",
          "height": 417
        },
        "id": "0zHqcVO48SkL",
        "outputId": "b159897d-fe5a-4310-9e6a-66402b0a3ac8"
      },
      "execution_count": 85,
      "outputs": [
        {
          "output_type": "display_data",
          "data": {
            "text/html": [
              "<table class=\"dataframe\">\n",
              "<caption>A data.frame: 1 × 3</caption>\n",
              "<thead>\n",
              "\t<tr><th></th><th scope=col>ID</th><th scope=col>Age</th><th scope=col>Height</th></tr>\n",
              "\t<tr><th></th><th scope=col>&lt;chr&gt;</th><th scope=col>&lt;dbl&gt;</th><th scope=col>&lt;dbl&gt;</th></tr>\n",
              "</thead>\n",
              "<tbody>\n",
              "\t<tr><th scope=row>Deva</th><td>B</td><td>19</td><td>170</td></tr>\n",
              "</tbody>\n",
              "</table>\n"
            ],
            "text/markdown": "\nA data.frame: 1 × 3\n\n| <!--/--> | ID &lt;chr&gt; | Age &lt;dbl&gt; | Height &lt;dbl&gt; |\n|---|---|---|---|\n| Deva | B | 19 | 170 |\n\n",
            "text/latex": "A data.frame: 1 × 3\n\\begin{tabular}{r|lll}\n  & ID & Age & Height\\\\\n  & <chr> & <dbl> & <dbl>\\\\\n\\hline\n\tDeva & B & 19 & 170\\\\\n\\end{tabular}\n",
            "text/plain": [
              "     ID Age Height\n",
              "Deva B  19  170   "
            ]
          },
          "metadata": {}
        },
        {
          "output_type": "display_data",
          "data": {
            "text/html": [
              "<table class=\"dataframe\">\n",
              "<caption>A data.frame: 3 × 2</caption>\n",
              "<thead>\n",
              "\t<tr><th></th><th scope=col>ID</th><th scope=col>Age</th></tr>\n",
              "\t<tr><th></th><th scope=col>&lt;chr&gt;</th><th scope=col>&lt;dbl&gt;</th></tr>\n",
              "</thead>\n",
              "<tbody>\n",
              "\t<tr><th scope=row>Zetsu</th><td>A</td><td>18</td></tr>\n",
              "\t<tr><th scope=row>Deva</th><td>B</td><td>19</td></tr>\n",
              "\t<tr><th scope=row>Animal</th><td>C</td><td>20</td></tr>\n",
              "</tbody>\n",
              "</table>\n"
            ],
            "text/markdown": "\nA data.frame: 3 × 2\n\n| <!--/--> | ID &lt;chr&gt; | Age &lt;dbl&gt; |\n|---|---|---|\n| Zetsu | A | 18 |\n| Deva | B | 19 |\n| Animal | C | 20 |\n\n",
            "text/latex": "A data.frame: 3 × 2\n\\begin{tabular}{r|ll}\n  & ID & Age\\\\\n  & <chr> & <dbl>\\\\\n\\hline\n\tZetsu & A & 18\\\\\n\tDeva & B & 19\\\\\n\tAnimal & C & 20\\\\\n\\end{tabular}\n",
            "text/plain": [
              "       ID Age\n",
              "Zetsu  A  18 \n",
              "Deva   B  19 \n",
              "Animal C  20 "
            ]
          },
          "metadata": {}
        },
        {
          "output_type": "display_data",
          "data": {
            "text/html": [
              "<table class=\"dataframe\">\n",
              "<caption>A data.frame: 1 × 2</caption>\n",
              "<thead>\n",
              "\t<tr><th></th><th scope=col>ID</th><th scope=col>Age</th></tr>\n",
              "\t<tr><th></th><th scope=col>&lt;chr&gt;</th><th scope=col>&lt;dbl&gt;</th></tr>\n",
              "</thead>\n",
              "<tbody>\n",
              "\t<tr><th scope=row>Animal</th><td>C</td><td>20</td></tr>\n",
              "</tbody>\n",
              "</table>\n"
            ],
            "text/markdown": "\nA data.frame: 1 × 2\n\n| <!--/--> | ID &lt;chr&gt; | Age &lt;dbl&gt; |\n|---|---|---|\n| Animal | C | 20 |\n\n",
            "text/latex": "A data.frame: 1 × 2\n\\begin{tabular}{r|ll}\n  & ID & Age\\\\\n  & <chr> & <dbl>\\\\\n\\hline\n\tAnimal & C & 20\\\\\n\\end{tabular}\n",
            "text/plain": [
              "       ID Age\n",
              "Animal C  20 "
            ]
          },
          "metadata": {}
        }
      ]
    },
    {
      "cell_type": "markdown",
      "source": [
        "### Factor"
      ],
      "metadata": {
        "id": "62r30hiA_Iyj"
      }
    },
    {
      "cell_type": "markdown",
      "source": [
        "A factor is a vector that can contain only predefined values and is used to store categorical\n",
        "data."
      ],
      "metadata": {
        "id": "-viXhTwM_LFK"
      }
    },
    {
      "cell_type": "code",
      "source": [
        "# Create a factor for storing a list of genders\n",
        "gender = factor(c('Male', 'Male', 'Female', 'Female'))\n",
        "print(gender)"
      ],
      "metadata": {
        "colab": {
          "base_uri": "https://localhost:8080/"
        },
        "id": "U7Vzbci__NRr",
        "outputId": "e4dae6b6-1159-4912-d26f-93811234117b"
      },
      "execution_count": 87,
      "outputs": [
        {
          "output_type": "stream",
          "name": "stdout",
          "text": [
            "[1] Male   Male   Female Female\n",
            "Levels: Female Male\n"
          ]
        }
      ]
    },
    {
      "cell_type": "code",
      "source": [
        "# In-built functions on factors\n",
        "levels(gender)"
      ],
      "metadata": {
        "colab": {
          "base_uri": "https://localhost:8080/",
          "height": 34
        },
        "id": "rI1XhBp5_hBa",
        "outputId": "ff3403f3-db09-443d-e8b1-7b6e55e3ff1b"
      },
      "execution_count": 88,
      "outputs": [
        {
          "output_type": "display_data",
          "data": {
            "text/html": [
              "<style>\n",
              ".list-inline {list-style: none; margin:0; padding: 0}\n",
              ".list-inline>li {display: inline-block}\n",
              ".list-inline>li:not(:last-child)::after {content: \"\\00b7\"; padding: 0 .5ex}\n",
              "</style>\n",
              "<ol class=list-inline><li>'Female'</li><li>'Male'</li></ol>\n"
            ],
            "text/markdown": "1. 'Female'\n2. 'Male'\n\n\n",
            "text/latex": "\\begin{enumerate*}\n\\item 'Female'\n\\item 'Male'\n\\end{enumerate*}\n",
            "text/plain": [
              "[1] \"Female\" \"Male\"  "
            ]
          },
          "metadata": {}
        }
      ]
    },
    {
      "cell_type": "code",
      "source": [
        "# Modify a gender\n",
        "gender[1] = 'Female'\n",
        "print(gender)"
      ],
      "metadata": {
        "colab": {
          "base_uri": "https://localhost:8080/"
        },
        "id": "F2REryfm_h1i",
        "outputId": "ca01580a-63e6-44f8-c587-eb4b2aad4943"
      },
      "execution_count": 89,
      "outputs": [
        {
          "output_type": "stream",
          "name": "stdout",
          "text": [
            "[1] Female Male   Female Female\n",
            "Levels: Female Male\n"
          ]
        }
      ]
    },
    {
      "cell_type": "markdown",
      "source": [
        "A factor can be initialised using the function ‘factor().’ There are built-in functions available that operate on factor objects. For example, the built-in function ‘levels()’ can be used to identify the unique categories inside the vector. Factor objects can also be modified using indexes. A factor data structure will be important when we deal with categorical type data such as gender, education level, blood type, etc"
      ],
      "metadata": {
        "id": "i6R4YOoD_tIb"
      }
    }
  ]
}