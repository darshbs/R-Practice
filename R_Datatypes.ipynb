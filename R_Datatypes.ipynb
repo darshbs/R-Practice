{
  "nbformat": 4,
  "nbformat_minor": 0,
  "metadata": {
    "kernelspec": {
      "display_name": "R",
      "language": "R",
      "name": "ir"
    },
    "language_info": {
      "codemirror_mode": "r",
      "file_extension": ".r",
      "mimetype": "text/x-r-source",
      "name": "R",
      "pygments_lexer": "r",
      "version": "3.3.1"
    },
    "colab": {
      "provenance": [],
      "include_colab_link": true
    }
  },
  "cells": [
    {
      "cell_type": "markdown",
      "metadata": {
        "id": "view-in-github",
        "colab_type": "text"
      },
      "source": [
        "<a href=\"https://colab.research.google.com/github/darshbs/R-onColab/blob/main/R_Datatypes.ipynb\" target=\"_parent\"><img src=\"https://colab.research.google.com/assets/colab-badge.svg\" alt=\"Open In Colab\"/></a>"
      ]
    },
    {
      "cell_type": "markdown",
      "source": [
        "Everything in R is an object"
      ],
      "metadata": {
        "id": "BkiCCfO6gbsO"
      }
    },
    {
      "cell_type": "code",
      "metadata": {
        "id": "AvdoG0fvbhhx"
      },
      "source": [
        "# Create an R object\n",
        "obj = 69"
      ],
      "execution_count": 1,
      "outputs": []
    },
    {
      "cell_type": "markdown",
      "source": [
        "**Basic data types in R:**\n",
        "\n",
        "\n",
        "\n",
        "1.   Character\n",
        "2.   Numeric (real or decimal)\n",
        "3. Integer\n",
        "4. Logical\n",
        "5. Complex\n"
      ],
      "metadata": {
        "id": "VyfZ4WAjhZMu"
      }
    },
    {
      "cell_type": "code",
      "source": [
        "# Create objects of simple data types\n",
        "my_char = 'a'\n",
        "print(my_char)\n",
        "\n",
        "num = 10L\n",
        "print(num)\n",
        "\n",
        "my_numeric = 25\n",
        "print(my_numeric)\n",
        "\n",
        "my_logic = TRUE\n",
        "print(my_logic)"
      ],
      "metadata": {
        "colab": {
          "base_uri": "https://localhost:8080/"
        },
        "id": "rtNs7eMDiHrl",
        "outputId": "8a63747b-8a4c-4516-bb3c-f94fe4808590"
      },
      "execution_count": 12,
      "outputs": [
        {
          "output_type": "stream",
          "name": "stdout",
          "text": [
            "[1] \"a\"\n",
            "[1] 10\n",
            "[1] 25\n",
            "[1] TRUE\n"
          ]
        }
      ]
    },
    {
      "cell_type": "code",
      "source": [
        "if (1 == 1) {\n",
        "  print(my_logic)\n",
        "}"
      ],
      "metadata": {
        "colab": {
          "base_uri": "https://localhost:8080/"
        },
        "id": "KUnD-zaGj68O",
        "outputId": "01b363dc-0b70-41c4-ca8a-9dae0da7e5d1"
      },
      "execution_count": 13,
      "outputs": [
        {
          "output_type": "stream",
          "name": "stdout",
          "text": [
            "[1] TRUE\n"
          ]
        }
      ]
    },
    {
      "cell_type": "markdown",
      "source": [
        "**Data Structures in R**\n",
        "1. Atomic Vectors\n",
        "2. List\n",
        "3. Matrix\n",
        "4. Data frame\n",
        "5. Factor"
      ],
      "metadata": {
        "id": "shCEFswHk2bF"
      }
    },
    {
      "cell_type": "markdown",
      "source": [
        "Vector"
      ],
      "metadata": {
        "id": "-u9QYOq9qAMs"
      }
    },
    {
      "cell_type": "code",
      "source": [
        "# Create a Vector\n",
        "my_vec1 = c(1L, 2L, 3L)\n",
        "my_vec2 = 1:4\n",
        "print(my_vec1)\n",
        "print(my_vec2)"
      ],
      "metadata": {
        "colab": {
          "base_uri": "https://localhost:8080/"
        },
        "id": "00IodObMlBnm",
        "outputId": "bc866810-3caf-45af-fe5b-2d4a634c6845"
      },
      "execution_count": 15,
      "outputs": [
        {
          "output_type": "stream",
          "name": "stdout",
          "text": [
            "[1] 1 2 3\n",
            "[1] 1 2 3 4\n"
          ]
        }
      ]
    },
    {
      "cell_type": "markdown",
      "source": [
        "Sequence Function\n",
        "seq(from = 1, to = 5, by = 1)"
      ],
      "metadata": {
        "id": "bMG210gBqgN9"
      }
    },
    {
      "cell_type": "code",
      "source": [
        "my_vec_seq = seq(from = 1, to = 10, by = 2)\n",
        "print(my_vec_seq)"
      ],
      "metadata": {
        "colab": {
          "base_uri": "https://localhost:8080/"
        },
        "id": "WaQ5-2nZqhr8",
        "outputId": "df093caa-2933-4ff2-d1e4-79b741e0684f"
      },
      "execution_count": 18,
      "outputs": [
        {
          "output_type": "stream",
          "name": "stdout",
          "text": [
            "[1] 1 3 5 7 9\n"
          ]
        }
      ]
    },
    {
      "cell_type": "markdown",
      "source": [
        "Functions on Objects"
      ],
      "metadata": {
        "id": "WoerJmFlriFc"
      }
    },
    {
      "cell_type": "code",
      "source": [
        "# length\n",
        "length(my_vec_seq)"
      ],
      "metadata": {
        "colab": {
          "base_uri": "https://localhost:8080/",
          "height": 34
        },
        "id": "DmL_HMvYrkJF",
        "outputId": "041bfaf7-589e-4a03-a7b6-909ffdc7dee6"
      },
      "execution_count": 19,
      "outputs": [
        {
          "output_type": "display_data",
          "data": {
            "text/html": [
              "5"
            ],
            "text/markdown": "5",
            "text/latex": "5",
            "text/plain": [
              "[1] 5"
            ]
          },
          "metadata": {}
        }
      ]
    },
    {
      "cell_type": "code",
      "source": [
        "# Class\n",
        "class(my_vec1)\n",
        "class(my_vec2)"
      ],
      "metadata": {
        "colab": {
          "base_uri": "https://localhost:8080/",
          "height": 52
        },
        "id": "6W8a7QCrrzoN",
        "outputId": "3b1e91ac-7c49-4d66-ddcc-9f7c95ce2cba"
      },
      "execution_count": 20,
      "outputs": [
        {
          "output_type": "display_data",
          "data": {
            "text/html": [
              "'integer'"
            ],
            "text/markdown": "'integer'",
            "text/latex": "'integer'",
            "text/plain": [
              "[1] \"integer\""
            ]
          },
          "metadata": {}
        },
        {
          "output_type": "display_data",
          "data": {
            "text/html": [
              "'integer'"
            ],
            "text/markdown": "'integer'",
            "text/latex": "'integer'",
            "text/plain": [
              "[1] \"integer\""
            ]
          },
          "metadata": {}
        }
      ]
    }
  ]
}