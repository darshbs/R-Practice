{
  "nbformat": 4,
  "nbformat_minor": 0,
  "metadata": {
    "kernelspec": {
      "display_name": "R",
      "language": "R",
      "name": "ir"
    },
    "language_info": {
      "codemirror_mode": "r",
      "file_extension": ".r",
      "mimetype": "text/x-r-source",
      "name": "R",
      "pygments_lexer": "r",
      "version": "3.3.1"
    },
    "colab": {
      "provenance": [],
      "include_colab_link": true
    }
  },
  "cells": [
    {
      "cell_type": "markdown",
      "metadata": {
        "id": "view-in-github",
        "colab_type": "text"
      },
      "source": [
        "<a href=\"https://colab.research.google.com/github/darshbs/R-onColab/blob/main/Exercise1.ipynb\" target=\"_parent\"><img src=\"https://colab.research.google.com/assets/colab-badge.svg\" alt=\"Open In Colab\"/></a>"
      ]
    },
    {
      "cell_type": "markdown",
      "source": [
        "\n",
        "\n",
        "```\n",
        "This is to install packages in R\n",
        "```\n",
        "\n"
      ],
      "metadata": {
        "id": "8EdyVfRjTGFI"
      }
    },
    {
      "cell_type": "code",
      "metadata": {
        "id": "AvdoG0fvbhhx",
        "colab": {
          "base_uri": "https://localhost:8080/"
        },
        "outputId": "516202c1-b068-43fc-b575-388d7d3103ee"
      },
      "source": [
        "require('ggplot2')"
      ],
      "execution_count": 1,
      "outputs": [
        {
          "output_type": "stream",
          "name": "stderr",
          "text": [
            "Loading required package: ggplot2\n",
            "\n"
          ]
        }
      ]
    },
    {
      "cell_type": "code",
      "source": [
        "library('ggplot2')"
      ],
      "metadata": {
        "id": "991_FPMGThf4"
      },
      "execution_count": 2,
      "outputs": []
    }
  ]
}